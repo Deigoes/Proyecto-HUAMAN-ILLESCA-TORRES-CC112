{
  "nbformat": 4,
  "nbformat_minor": 0,
  "metadata": {
    "colab": {
      "provenance": [],
      "authorship_tag": "ABX9TyM8XCpSlRKb8d39DzAKgUPC",
      "include_colab_link": true
    },
    "kernelspec": {
      "name": "python3",
      "display_name": "Python 3"
    },
    "language_info": {
      "name": "python"
    }
  },
  "cells": [
    {
      "cell_type": "markdown",
      "metadata": {
        "id": "view-in-github",
        "colab_type": "text"
      },
      "source": [
        "<a href=\"https://colab.research.google.com/github/Deigoes/Proyecto-HUAMAN-ILLESCA-TORRES-CC112/blob/main/Herramientas%20de%20Presentaci%C3%B3n/Exposici%C3%B3n1.ipynb\" target=\"_parent\"><img src=\"https://colab.research.google.com/assets/colab-badge.svg\" alt=\"Open In Colab\"/></a>"
      ]
    },
    {
      "cell_type": "markdown",
      "source": [
        "<table border=1 width='140%'>\n",
        "<tr>\n",
        "<td bgcolor='#004261'>\n",
        "\n",
        "# **<font color=\"#FFFFFF\"> PARTE 1</font>**\n",
        "\n",
        "</td>\n",
        "</tr>\n",
        "</table>"
      ],
      "metadata": {
        "id": "hMPSrzVZuRfk"
      }
    },
    {
      "cell_type": "markdown",
      "source": [
        "\n",
        "**Funciones en Python**\n",
        "\n",
        "Crear una función que calcule el factorial de un número.\n",
        "\n",
        "\n"
      ],
      "metadata": {
        "id": "9KF5WbAPvfDy"
      }
    },
    {
      "cell_type": "code",
      "source": [
        "print(\"--FACTORIAL DE UN NUMERO--\")\n",
        "n = int(input(\"Digite un numero entero positivo: \"))\n",
        "\n",
        "def factorial(n):\n",
        "    if n == 0:\n",
        "        return 1 # Caso base\n",
        "    elif n == 1:\n",
        "        return 1 #Caso base\n",
        "    else:\n",
        "        return n*factorial(n-1)\n",
        "\n",
        "print(f\"El factorial de {n} es: {factorial(n)}\")"
      ],
      "metadata": {
        "colab": {
          "base_uri": "https://localhost:8080/"
        },
        "id": "D_V35DKquRJl",
        "outputId": "462501bb-28b5-4ef0-b38d-adb2c349d194"
      },
      "execution_count": null,
      "outputs": [
        {
          "output_type": "stream",
          "name": "stdout",
          "text": [
            "--FACTORIAL DE UN NUMERO--\n",
            "Digite un numero entero positivo: 1\n",
            "El factorial de 1 es: 1\n"
          ]
        }
      ]
    },
    {
      "cell_type": "markdown",
      "source": [
        "Implementar una función recursiva para encontrar el máximo común divisor (MCD) de dos números.\n"
      ],
      "metadata": {
        "id": "CPQKY3m_vffy"
      }
    },
    {
      "cell_type": "code",
      "source": [
        "def MCDRecur(a, b):\n",
        "    menor = min(a,b)\n",
        "    mayor = max(a, b)\n",
        "    if mayor%menor == 0:\n",
        "        return menor\n",
        "    resto = mayor%menor\n",
        "    return MCDRecur(menor, resto)\n",
        "\n",
        "num1 = 51\n",
        "num2 = 123\n",
        "\n",
        "resultado = MCDRecur(num1, num2)\n",
        "print(f\"El MCD de {num1} y {num2} es: {resultado}\")"
      ],
      "metadata": {
        "colab": {
          "base_uri": "https://localhost:8080/"
        },
        "id": "5gPyAw-zvf3K",
        "outputId": "e5811dad-5564-4995-b30a-a4d7d5887cd8"
      },
      "execution_count": null,
      "outputs": [
        {
          "output_type": "stream",
          "name": "stdout",
          "text": [
            "El MCD de 51 y 123 es: 3\n"
          ]
        }
      ]
    },
    {
      "cell_type": "markdown",
      "source": [
        "**Cadenas en Python**\n",
        "\n",
        "Escribir una función que invierta una cadena."
      ],
      "metadata": {
        "id": "sCtx-tj6vgGy"
      }
    },
    {
      "cell_type": "code",
      "source": [
        "print(\"--INVERTIR CADENA--\")\n",
        "cad = input(\"Digite una cadena: \")\n",
        "cadinv = cad[::-1]\n",
        "print(\"Cadena invertida: \", cadinv)"
      ],
      "metadata": {
        "colab": {
          "base_uri": "https://localhost:8080/"
        },
        "id": "oVJYBNBVvgbq",
        "outputId": "5b7e2bcd-659f-4b08-eea7-22fa65d145b9"
      },
      "execution_count": null,
      "outputs": [
        {
          "output_type": "stream",
          "name": "stdout",
          "text": [
            "--INVERTIR CADENA--\n",
            "Digite una cadena: holam\n",
            "Cadena invertida:  maloh\n"
          ]
        }
      ]
    },
    {
      "cell_type": "markdown",
      "source": [
        "Crear una función que cuente las vocales en una cadena."
      ],
      "metadata": {
        "id": "mYzGfLE3vgp7"
      }
    },
    {
      "cell_type": "code",
      "source": [
        "def contaVocales(cadena):\n",
        "    vocales = 'aeiouAEIOUáéíóúÁÉÍÓÚ'\n",
        "    contador = 0\n",
        "    for caracter in cadena:\n",
        "        if caracter in vocales:\n",
        "            contador += 1\n",
        "    return contador\n",
        "cadena = \"HolA, ¿cÓmo estás?\"\n",
        "resultado = contaVocales(cadena)\n",
        "print(f\"El número de vocales en la cadena es: {resultado}\")"
      ],
      "metadata": {
        "colab": {
          "base_uri": "https://localhost:8080/"
        },
        "id": "eDxj19yVvhB6",
        "outputId": "0b7f8bdf-af6c-49c1-d86f-e634b0b97644"
      },
      "execution_count": null,
      "outputs": [
        {
          "output_type": "stream",
          "name": "stdout",
          "text": [
            "El número de vocales en la cadena es: 6\n"
          ]
        }
      ]
    },
    {
      "cell_type": "markdown",
      "source": [
        "**Referencias y asignación dinámica**\n",
        "\n",
        "Explicar cómo funcionan las referencias en Python y crear una función que demuestre la mutabilidad de las listas.\n"
      ],
      "metadata": {
        "id": "qOiRdEz_wmLA"
      }
    },
    {
      "cell_type": "code",
      "source": [
        "def Mutabilidad(listaMutada):\n",
        "    print(\"Lista original dentro de la función:\", listaMutada)\n",
        "    listaMutada.append(\"Mario\")\n",
        "    print(\"Lista modificada dentro de la función:\", listaMutada)\n",
        "\n",
        "listaOriginal = [\"Renzo\", \"Juan\", \"Pedro\"]\n",
        "print(\"Lista antes de llamar a la función:\", listaOriginal)\n",
        "Mutabilidad(listaOriginal)\n",
        "print(\"Lista después de llamar a la función:\", listaOriginal)"
      ],
      "metadata": {
        "colab": {
          "base_uri": "https://localhost:8080/"
        },
        "id": "I-v9gcP1wmlZ",
        "outputId": "2ef97233-8fd2-4d50-f9ae-2752160047e2"
      },
      "execution_count": null,
      "outputs": [
        {
          "output_type": "stream",
          "name": "stdout",
          "text": [
            "Lista antes de llamar a la función: ['Renzo', 'Juan', 'Pedro']\n",
            "Lista original dentro de la función: ['Renzo', 'Juan', 'Pedro']\n",
            "Lista modificada dentro de la función: ['Renzo', 'Juan', 'Pedro', 'Mario']\n",
            "Lista después de llamar a la función: ['Renzo', 'Juan', 'Pedro', 'Mario']\n"
          ]
        }
      ]
    },
    {
      "cell_type": "markdown",
      "source": [
        "Crear una lista dinámica (usando listas en Python) y añadir elementos de forma interactiva."
      ],
      "metadata": {
        "id": "rkc9G6hGvhZa"
      }
    },
    {
      "cell_type": "code",
      "source": [
        "def ListaDinamica():\n",
        "    Lista = []\n",
        "    while True:\n",
        "        elemento = input(\"Introduzca un elemento para añadir a la lista o 'salir' para finalizar: \")\n",
        "        if elemento == 'salir':\n",
        "            break\n",
        "        Lista.append(elemento)\n",
        "        print(\"Elemento añadido\")\n",
        "    return Lista\n",
        "ListaFinal = ListaDinamica()\n",
        "print(f\"Lista completa: {ListaFinal}\")"
      ],
      "metadata": {
        "colab": {
          "base_uri": "https://localhost:8080/"
        },
        "id": "kh76bNilvhsq",
        "outputId": "af27105c-6e77-4a0c-aa6c-b6cd8ca967e2"
      },
      "execution_count": null,
      "outputs": [
        {
          "output_type": "stream",
          "name": "stdout",
          "text": [
            "Introduzca un elemento para añadir a la lista o 'salir' para finalizar: que tal\n",
            "Elemento añadido\n",
            "Introduzca un elemento para añadir a la lista o 'salir' para finalizar: salir\n",
            "Lista completa: ['que tal']\n"
          ]
        }
      ]
    },
    {
      "cell_type": "markdown",
      "source": [
        "**Diccionarios**\n",
        "\n",
        "Escribir una función que ordene una lista de diccionarios por un valor específico."
      ],
      "metadata": {
        "id": "Oo4wLpvpxBBH"
      }
    },
    {
      "cell_type": "code",
      "source": [
        "def ordenarLista(lista, clave):\n",
        "    return sorted(lista, key=lambda diccionario: diccionario[clave])\n",
        "listaDeDiccionarios = [\n",
        "    {'nombre': 'Juan', 'edad': 25},\n",
        "    {'nombre': 'Ana', 'edad': 22},\n",
        "    {'nombre': 'Pedro', 'edad': 30},\n",
        "    {'nombre': 'Marta', 'edad': 20}\n",
        "]\n",
        "listaOrdenada = ordenarLista(listaDeDiccionarios, 'edad')\n",
        "print(listaOrdenada)\n",
        "\n",
        "listaOrdenada = ordenarLista(listaDeDiccionarios, 'nombre')\n",
        "print(listaOrdenada)"
      ],
      "metadata": {
        "colab": {
          "base_uri": "https://localhost:8080/"
        },
        "id": "7i9sGvXowz_3",
        "outputId": "f919c209-a8cf-4b3f-e129-1aa2bc531e70"
      },
      "execution_count": null,
      "outputs": [
        {
          "output_type": "stream",
          "name": "stdout",
          "text": [
            "[{'nombre': 'Marta', 'edad': 20}, {'nombre': 'Ana', 'edad': 22}, {'nombre': 'Juan', 'edad': 25}, {'nombre': 'Pedro', 'edad': 30}]\n",
            "[{'nombre': 'Ana', 'edad': 22}, {'nombre': 'Juan', 'edad': 25}, {'nombre': 'Marta', 'edad': 20}, {'nombre': 'Pedro', 'edad': 30}]\n"
          ]
        }
      ]
    },
    {
      "cell_type": "markdown",
      "source": [
        "**Archivos**\n",
        "\n",
        "Escribir y leer datos desde un archivo de texto."
      ],
      "metadata": {
        "id": "3gTQhhbNxPj3"
      }
    },
    {
      "cell_type": "code",
      "source": [
        "texto = [\"Inicio\", \"Medio\", \"Final\"]\n",
        "\n",
        "with open('archivo.txt', 'w') as archivo:\n",
        "    for linea in texto:\n",
        "        archivo.write(linea + '\\n')\n",
        "\n",
        "with open('archivo.txt', 'r') as archivo:\n",
        "    informacion = archivo.readlines()\n",
        "\n",
        "for linea in informacion:\n",
        "    print(linea.strip())"
      ],
      "metadata": {
        "colab": {
          "base_uri": "https://localhost:8080/"
        },
        "id": "332sQFsrxP99",
        "outputId": "a30c3283-a1e6-4a2f-aae8-592dc87ffb8e"
      },
      "execution_count": null,
      "outputs": [
        {
          "output_type": "stream",
          "name": "stdout",
          "text": [
            "Inicio\n",
            "Medio\n",
            "Final\n"
          ]
        }
      ]
    },
    {
      "cell_type": "markdown",
      "source": [
        "**Clases**\n",
        "\n",
        "Definir una clase Persona con atributos nombre y edad, y un método para mostrar estos datos."
      ],
      "metadata": {
        "id": "j9PdeYX3vh6T"
      }
    },
    {
      "cell_type": "code",
      "source": [
        "class Persona:\n",
        "    def __init__(self, nombre, edad):\n",
        "        self.nombre = nombre\n",
        "        self.edad = edad\n",
        "\n",
        "    def mostrarDatos(self):\n",
        "        print(f'Nombre: {self.nombre}, Edad: {self.edad}')\n",
        "\n",
        "persona1 = Persona('Romina', 13)\n",
        "persona1.mostrarDatos()\n",
        "\n",
        "persona2 = Persona('Adrian', 18)\n",
        "persona2.mostrarDatos()"
      ],
      "metadata": {
        "colab": {
          "base_uri": "https://localhost:8080/"
        },
        "id": "HTRxTm-nxcUb",
        "outputId": "c3f268ef-157a-4946-e402-7dd2186d6f03"
      },
      "execution_count": null,
      "outputs": [
        {
          "output_type": "stream",
          "name": "stdout",
          "text": [
            "Nombre: Romina, Edad: 13\n",
            "Nombre: Adrian, Edad: 18\n"
          ]
        }
      ]
    },
    {
      "cell_type": "markdown",
      "source": [
        "<table border=1 width='140%'>\n",
        "<tr>\n",
        "<td bgcolor='#004261'>\n",
        "\n",
        "# **<font color=\"#FFFFFF\">PARTE 2</font>**\n",
        "\n",
        "</td>\n",
        "</tr>\n",
        "</table>"
      ],
      "metadata": {
        "id": "J77rxBhyujlW"
      }
    },
    {
      "cell_type": "markdown",
      "source": [
        "Desarrollar un juego en el que el programa elija un número aleatorio y el usuario intente adivinarlo."
      ],
      "metadata": {
        "id": "TVynlFyhx5AY"
      }
    },
    {
      "cell_type": "code",
      "execution_count": null,
      "metadata": {
        "colab": {
          "base_uri": "https://localhost:8080/"
        },
        "id": "TRJNzNZ3t76v",
        "outputId": "829fff39-5d94-4640-8f49-acd033d2340e"
      },
      "outputs": [
        {
          "output_type": "stream",
          "name": "stdout",
          "text": [
            "¡Bienvenido al juego de busca numero!\n",
            "Se ha elegido un número entre 1 y 100. ¡Intenta adivinarlo!\n",
            "Tienes 5 intentos para encontrarlo.\n",
            "Introduce tu suposición: 4\n",
            "Demasiado bajo. Intenta de nuevo.\n",
            "Te quedan 4 intentos.\n",
            "Introduce tu suposición: 5\n",
            "Demasiado bajo. Intenta de nuevo.\n",
            "Te quedan 3 intentos.\n",
            "Introduce tu suposición: 4\n",
            "Demasiado bajo. Intenta de nuevo.\n",
            "Te quedan 2 intentos.\n",
            "Introduce tu suposición: 3\n",
            "Demasiado bajo. Intenta de nuevo.\n",
            "Te quedan 1 intentos.\n",
            "Introduce tu suposición: 6\n",
            "¡Ups! Te has quedado sin intentos. ¡Suerte para la proxima!\n",
            "El numero secreto era 63.\n"
          ]
        }
      ],
      "source": [
        "import random\n",
        "\n",
        "def juegoBuscaNumero():\n",
        "    numeroSecreto = random.randint(1, 100)\n",
        "    intentos = 5\n",
        "\n",
        "    print(\"¡Bienvenido al juego de busca numero!\")\n",
        "    print(\"Se ha elegido un número entre 1 y 100. ¡Intenta adivinarlo!\")\n",
        "    print(\"Tienes 5 intentos para encontrarlo.\")\n",
        "\n",
        "    while True:\n",
        "        numero = input(\"Introduce tu suposición: \")\n",
        "\n",
        "        if numero.isdigit():\n",
        "            numero = int(numero)\n",
        "            intentos = intentos - 1\n",
        "\n",
        "            if intentos > 0:\n",
        "\n",
        "                if numero < numeroSecreto:\n",
        "                    print(\"Demasiado bajo. Intenta de nuevo.\")\n",
        "                    print(f\"Te quedan {intentos} intentos.\")\n",
        "                elif numero > numeroSecreto:\n",
        "                    print(\"Demasiado alto. Intenta de nuevo.\")\n",
        "                    print(f\"Te quedan {intentos} intentos.\")\n",
        "                else:\n",
        "                    print(f\"¡Felicidades! Adivinaste el número en {5 - intentos} intentos.\")\n",
        "                    break\n",
        "\n",
        "            else:\n",
        "                print(\"¡Ups! Te has quedado sin intentos. ¡Suerte para la proxima!\")\n",
        "                print(f\"El numero secreto era {numeroSecreto}.\")\n",
        "                break\n",
        "\n",
        "        else:\n",
        "            print(\"Por favor, introduce un número válido.\")\n",
        "\n",
        "juegoBuscaNumero()"
      ]
    }
  ]
}